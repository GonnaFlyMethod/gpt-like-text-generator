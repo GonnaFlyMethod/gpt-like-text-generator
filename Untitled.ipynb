{
 "cells": [
  {
   "cell_type": "code",
   "execution_count": 1,
   "id": "d7f8e8af-9467-4f48-85d0-e814ec8f9b50",
   "metadata": {},
   "outputs": [
    {
     "name": "stdout",
     "output_type": "stream",
     "text": [
      "Total chars:  1115394\n"
     ]
    }
   ],
   "source": [
    "text = \"\"\n",
    "\n",
    "with open(\"./input.txt\", \"r\") as file:\n",
    "\ttext = file.read()\n",
    "\t\n",
    "\n",
    "print(\"Total chars: \", len(text))"
   ]
  },
  {
   "cell_type": "code",
   "execution_count": 2,
   "id": "05a714e9-8b47-4daf-9842-2bfc3a58b958",
   "metadata": {},
   "outputs": [
    {
     "name": "stdout",
     "output_type": "stream",
     "text": [
      "Vocabulary:  \n",
      " !$&',-.3:;?ABCDEFGHIJKLMNOPQRSTUVWXYZabcdefghijklmnopqrstuvwxyz\n",
      "Lenght of vocabulary:  65\n"
     ]
    }
   ],
   "source": [
    "vocabulary_list = sorted(list(set(text)))\n",
    "\n",
    "print(\"Vocabulary: \", \"\".join(vocabulary_list))\n",
    "print(\"Lenght of vocabulary: \", len(vocabulary_list))"
   ]
  },
  {
   "cell_type": "code",
   "execution_count": 3,
   "id": "ef25f5da-dd24-4aab-a4b7-31df013a161c",
   "metadata": {},
   "outputs": [
    {
     "name": "stdout",
     "output_type": "stream",
     "text": [
      "[58, 43, 57, 58, 1, 43, 52, 41, 53, 42, 47, 52, 45]\n",
      "test encoding\n"
     ]
    }
   ],
   "source": [
    "stoi = { char: i for i, char in enumerate(vocabulary_list) }\n",
    "itos = { i: char for i, char in enumerate(vocabulary_list) }\n",
    "\n",
    "encode = lambda s: [stoi[char] for char in s]\n",
    "decode = lambda l: \"\".join([itos[i] for i in l])\n",
    "\n",
    "print(encode(\"test encoding\"))\n",
    "print(decode(encode(\"test encoding\")))"
   ]
  },
  {
   "cell_type": "code",
   "execution_count": 4,
   "id": "6461aea8-a716-43bc-a616-6bbc7009be20",
   "metadata": {},
   "outputs": [],
   "source": [
    "import torch"
   ]
  },
  {
   "cell_type": "code",
   "execution_count": 5,
   "id": "c9387424-71f7-4c5d-9707-9e5ad5c97d00",
   "metadata": {},
   "outputs": [
    {
     "name": "stdout",
     "output_type": "stream",
     "text": [
      "torch.Size([1115394]) torch.int64\n",
      "tensor([18, 47, 56, 57, 58,  1, 15, 47, 58, 47, 64, 43, 52, 10,  0, 14, 43, 44,\n",
      "        53, 56, 43,  1, 61, 43,  1, 54, 56, 53, 41, 43, 43, 42,  1, 39, 52, 63,\n",
      "         1, 44, 59, 56, 58, 46, 43, 56,  6,  1, 46, 43, 39, 56,  1, 51, 43,  1,\n",
      "        57, 54, 43, 39, 49,  8,  0,  0, 13, 50, 50, 10,  0, 31, 54, 43, 39, 49,\n",
      "         6,  1, 57, 54, 43, 39, 49,  8,  0,  0, 18, 47, 56, 57, 58,  1, 15, 47,\n",
      "        58, 47, 64, 43, 52, 10,  0, 37, 53, 59,  1, 39, 56, 43,  1, 39, 50, 50,\n",
      "         1, 56, 43, 57, 53, 50, 60, 43, 42,  1, 56, 39, 58, 46, 43, 56,  1, 58,\n",
      "        53,  1, 42, 47, 43,  1, 58, 46, 39, 52,  1, 58, 53,  1, 44, 39, 51, 47,\n",
      "        57, 46, 12,  0,  0, 13, 50, 50, 10,  0, 30, 43, 57, 53, 50, 60, 43, 42,\n",
      "         8,  1, 56, 43, 57, 53, 50, 60, 43, 42,  8,  0,  0, 18, 47, 56, 57, 58,\n",
      "         1, 15, 47, 58, 47, 64, 43, 52, 10,  0, 18, 47, 56, 57, 58,  6,  1, 63,\n",
      "        53, 59,  1, 49, 52, 53, 61,  1, 15, 39, 47, 59, 57,  1, 25, 39, 56, 41,\n",
      "        47, 59, 57,  1, 47, 57,  1, 41, 46, 47, 43, 44,  1, 43, 52, 43, 51, 63,\n",
      "         1, 58, 53,  1, 58, 46, 43,  1, 54, 43, 53, 54, 50, 43,  8,  0,  0, 13,\n",
      "        50, 50, 10,  0, 35, 43,  1, 49, 52, 53, 61,  5, 58,  6,  1, 61, 43,  1,\n",
      "        49, 52, 53, 61,  5, 58,  8,  0,  0, 18, 47, 56, 57, 58,  1, 15, 47, 58,\n",
      "        47, 64, 43, 52, 10,  0, 24, 43, 58,  1, 59, 57,  1, 49, 47, 50, 50,  1,\n",
      "        46, 47, 51,  6,  1, 39, 52, 42,  1, 61, 43,  5, 50, 50,  1, 46, 39, 60,\n",
      "        43,  1, 41, 53, 56, 52,  1, 39, 58,  1, 53, 59, 56,  1, 53, 61, 52,  1,\n",
      "        54, 56, 47, 41, 43,  8,  0, 21, 57,  5, 58,  1, 39,  1, 60, 43, 56, 42,\n",
      "        47, 41, 58, 12,  0,  0, 13, 50, 50, 10,  0, 26, 53,  1, 51, 53, 56, 43,\n",
      "         1, 58, 39, 50, 49, 47, 52, 45,  1, 53, 52,  5, 58, 11,  1, 50, 43, 58,\n",
      "         1, 47, 58,  1, 40, 43,  1, 42, 53, 52, 43, 10,  1, 39, 61, 39, 63,  6,\n",
      "         1, 39, 61, 39, 63,  2,  0,  0, 31, 43, 41, 53, 52, 42,  1, 15, 47, 58,\n",
      "        47, 64, 43, 52, 10,  0, 27, 52, 43,  1, 61, 53, 56, 42,  6,  1, 45, 53,\n",
      "        53, 42,  1, 41, 47, 58, 47, 64, 43, 52, 57,  8,  0,  0, 18, 47, 56, 57,\n",
      "        58,  1, 15, 47, 58, 47, 64, 43, 52, 10,  0, 35, 43,  1, 39, 56, 43,  1,\n",
      "        39, 41, 41, 53, 59, 52, 58, 43, 42,  1, 54, 53, 53, 56,  1, 41, 47, 58,\n",
      "        47, 64, 43, 52, 57,  6,  1, 58, 46, 43,  1, 54, 39, 58, 56, 47, 41, 47,\n",
      "        39, 52, 57,  1, 45, 53, 53, 42,  8,  0, 35, 46, 39, 58,  1, 39, 59, 58,\n",
      "        46, 53, 56, 47, 58, 63,  1, 57, 59, 56, 44, 43, 47, 58, 57,  1, 53, 52,\n",
      "         1, 61, 53, 59, 50, 42,  1, 56, 43, 50, 47, 43, 60, 43,  1, 59, 57, 10,\n",
      "         1, 47, 44,  1, 58, 46, 43, 63,  0, 61, 53, 59, 50, 42,  1, 63, 47, 43,\n",
      "        50, 42,  1, 59, 57,  1, 40, 59, 58,  1, 58, 46, 43,  1, 57, 59, 54, 43,\n",
      "        56, 44, 50, 59, 47, 58, 63,  6,  1, 61, 46, 47, 50, 43,  1, 47, 58,  1,\n",
      "        61, 43, 56, 43,  0, 61, 46, 53, 50, 43, 57, 53, 51, 43,  6,  1, 61, 43,\n",
      "         1, 51, 47, 45, 46, 58,  1, 45, 59, 43, 57, 57,  1, 58, 46, 43, 63,  1,\n",
      "        56, 43, 50, 47, 43, 60, 43, 42,  1, 59, 57,  1, 46, 59, 51, 39, 52, 43,\n",
      "        50, 63, 11,  0, 40, 59, 58,  1, 58, 46, 43, 63,  1, 58, 46, 47, 52, 49,\n",
      "         1, 61, 43,  1, 39, 56, 43,  1, 58, 53, 53,  1, 42, 43, 39, 56, 10,  1,\n",
      "        58, 46, 43,  1, 50, 43, 39, 52, 52, 43, 57, 57,  1, 58, 46, 39, 58,  0,\n",
      "        39, 44, 44, 50, 47, 41, 58, 57,  1, 59, 57,  6,  1, 58, 46, 43,  1, 53,\n",
      "        40, 48, 43, 41, 58,  1, 53, 44,  1, 53, 59, 56,  1, 51, 47, 57, 43, 56,\n",
      "        63,  6,  1, 47, 57,  1, 39, 57,  1, 39, 52,  0, 47, 52, 60, 43, 52, 58,\n",
      "        53, 56, 63,  1, 58, 53,  1, 54, 39, 56, 58, 47, 41, 59, 50, 39, 56, 47,\n",
      "        57, 43,  1, 58, 46, 43, 47, 56,  1, 39, 40, 59, 52, 42, 39, 52, 41, 43,\n",
      "        11,  1, 53, 59, 56,  0, 57, 59, 44, 44, 43, 56, 39, 52, 41, 43,  1, 47,\n",
      "        57,  1, 39,  1, 45, 39, 47, 52,  1, 58, 53,  1, 58, 46, 43, 51,  1, 24,\n",
      "        43, 58,  1, 59, 57,  1, 56, 43, 60, 43, 52, 45, 43,  1, 58, 46, 47, 57,\n",
      "         1, 61, 47, 58, 46,  0, 53, 59, 56,  1, 54, 47, 49, 43, 57,  6,  1, 43,\n",
      "        56, 43,  1, 61, 43,  1, 40, 43, 41, 53, 51, 43,  1, 56, 39, 49, 43, 57,\n",
      "        10,  1, 44, 53, 56,  1, 58, 46, 43,  1, 45, 53, 42, 57,  1, 49, 52, 53,\n",
      "        61,  1, 21,  0, 57, 54, 43, 39, 49,  1, 58, 46, 47, 57,  1, 47, 52,  1,\n",
      "        46, 59, 52, 45, 43, 56,  1, 44, 53, 56,  1, 40, 56, 43, 39, 42,  6,  1,\n",
      "        52, 53, 58,  1, 47, 52,  1, 58, 46, 47, 56, 57, 58,  1, 44, 53, 56,  1,\n",
      "        56, 43, 60, 43, 52, 45, 43,  8,  0,  0])\n",
      "tensor([18, 47, 56, 57, 58,  1, 15, 47, 58])\n",
      "when input is tensor([18]) then target is 47\n",
      "when input is tensor([18, 47]) then target is 56\n",
      "when input is tensor([18, 47, 56]) then target is 57\n",
      "when input is tensor([18, 47, 56, 57]) then target is 58\n",
      "when input is tensor([18, 47, 56, 57, 58]) then target is 1\n",
      "when input is tensor([18, 47, 56, 57, 58,  1]) then target is 15\n",
      "when input is tensor([18, 47, 56, 57, 58,  1, 15]) then target is 47\n",
      "when input is tensor([18, 47, 56, 57, 58,  1, 15, 47]) then target is 58\n"
     ]
    }
   ],
   "source": [
    "tensor = torch.tensor(encode(text), dtype=torch.long)\n",
    "print(tensor.shape, tensor.dtype)\n",
    "print(tensor[:1000])\n",
    "\n",
    "n = int(0.9 * len(tensor))\n",
    "train_data, val_data = tensor[:n], tensor[n:]\n",
    "\n",
    "block_size = 8\n",
    "print(train_data[:block_size+1])\n",
    "\n",
    "\n",
    "x = train_data[:block_size]\n",
    "y = train_data[1:block_size+1]\n",
    "\n",
    "for t in range(block_size):\n",
    "\tcontext = x[:t + 1]\n",
    "\ttarget = y[t]\n",
    "\n",
    "\tprint(f\"when input is {context} then target is {target}\")"
   ]
  },
  {
   "cell_type": "code",
   "execution_count": 8,
   "id": "d5c1ec3f-081e-424e-afe6-9e2f71de55cd",
   "metadata": {},
   "outputs": [
    {
     "name": "stdout",
     "output_type": "stream",
     "text": [
      "ix tensor([385543, 765902, 890262, 369401])\n",
      "inputs:\n",
      "torch.Size([4, 8])\n",
      "tensor([[ 1, 46, 47, 51,  1, 39,  1, 40],\n",
      "        [56, 43,  6,  1, 52, 53, 56,  1],\n",
      "        [52,  1, 58, 46, 39, 58,  1, 54],\n",
      "        [46, 47, 57,  1, 51, 43, 52,  1]])\n",
      "targets:\n",
      "torch.Size([4, 8])\n",
      "tensor([[46, 47, 51,  1, 39,  1, 40, 56],\n",
      "        [43,  6,  1, 52, 53, 56,  1, 53],\n",
      "        [ 1, 58, 46, 39, 58,  1, 54, 39],\n",
      "        [47, 57,  1, 51, 43, 52,  1, 53]])\n",
      "------\n",
      "when input is tensor([1]) then target is 46\n",
      "when input is tensor([ 1, 46]) then target is 47\n",
      "when input is tensor([ 1, 46, 47]) then target is 51\n",
      "when input is tensor([ 1, 46, 47, 51]) then target is 1\n",
      "when input is tensor([ 1, 46, 47, 51,  1]) then target is 39\n",
      "when input is tensor([ 1, 46, 47, 51,  1, 39]) then target is 1\n",
      "when input is tensor([ 1, 46, 47, 51,  1, 39,  1]) then target is 40\n",
      "when input is tensor([ 1, 46, 47, 51,  1, 39,  1, 40]) then target is 56\n",
      "when input is tensor([56]) then target is 43\n",
      "when input is tensor([56, 43]) then target is 6\n",
      "when input is tensor([56, 43,  6]) then target is 1\n",
      "when input is tensor([56, 43,  6,  1]) then target is 52\n",
      "when input is tensor([56, 43,  6,  1, 52]) then target is 53\n",
      "when input is tensor([56, 43,  6,  1, 52, 53]) then target is 56\n",
      "when input is tensor([56, 43,  6,  1, 52, 53, 56]) then target is 1\n",
      "when input is tensor([56, 43,  6,  1, 52, 53, 56,  1]) then target is 53\n",
      "when input is tensor([52]) then target is 1\n",
      "when input is tensor([52,  1]) then target is 58\n",
      "when input is tensor([52,  1, 58]) then target is 46\n",
      "when input is tensor([52,  1, 58, 46]) then target is 39\n",
      "when input is tensor([52,  1, 58, 46, 39]) then target is 58\n",
      "when input is tensor([52,  1, 58, 46, 39, 58]) then target is 1\n",
      "when input is tensor([52,  1, 58, 46, 39, 58,  1]) then target is 54\n",
      "when input is tensor([52,  1, 58, 46, 39, 58,  1, 54]) then target is 39\n",
      "when input is tensor([46]) then target is 47\n",
      "when input is tensor([46, 47]) then target is 57\n",
      "when input is tensor([46, 47, 57]) then target is 1\n",
      "when input is tensor([46, 47, 57,  1]) then target is 51\n",
      "when input is tensor([46, 47, 57,  1, 51]) then target is 43\n",
      "when input is tensor([46, 47, 57,  1, 51, 43]) then target is 52\n",
      "when input is tensor([46, 47, 57,  1, 51, 43, 52]) then target is 1\n",
      "when input is tensor([46, 47, 57,  1, 51, 43, 52,  1]) then target is 53\n"
     ]
    }
   ],
   "source": [
    "batch_size = 4 # how many independent sequences will we process in parallel\n",
    "block_size = 8 # what is the maximum context length for predictions\n",
    "\n",
    "def get_batch(split):\n",
    "\tdata = train_data if split == \"train\" else val_data\n",
    "\tix = torch.randint(len(data) - block_size, (batch_size,))\n",
    "\tprint(\"ix\", ix)\n",
    "\n",
    "\tx = torch.stack([data[i:i + block_size] for i in ix])\n",
    "\ty = torch.stack([data[i + 1:i + block_size + 1] for i in ix])\n",
    "\n",
    "\treturn x, y\n",
    "\n",
    "xb, yb = get_batch(\"train\")\n",
    "print(\"inputs:\")\n",
    "\n",
    "print(xb.shape)\n",
    "print(xb)\n",
    "\n",
    "print(\"targets:\")\n",
    "print(yb.shape)\n",
    "print(yb)\n",
    "\n",
    "print('------')\n",
    "\n",
    "for b in range(batch_size):\n",
    "\tfor t in range(block_size):\n",
    "\t\tcontext = xb[b, :t + 1]\n",
    "\t\ttarget = yb[b, t]\n",
    "\n",
    "\t\tprint(f\"when input is {context} then target is {target}\")"
   ]
  },
  {
   "cell_type": "code",
   "execution_count": 18,
   "id": "a01ec11a-be04-4457-ad61-2a5859775355",
   "metadata": {},
   "outputs": [],
   "source": [
    "a = torch.randint(4, (4,8))"
   ]
  },
  {
   "cell_type": "code",
   "execution_count": 28,
   "id": "87539cda-1199-4cb3-ad46-9629396ce4a5",
   "metadata": {},
   "outputs": [
    {
     "data": {
      "text/plain": [
       "tensor([[2, 0, 3, 2, 3, 0, 0, 0],\n",
       "        [2, 3, 3, 2, 3, 1, 1, 1],\n",
       "        [3, 2, 1, 0, 3, 3, 2, 2],\n",
       "        [1, 2, 2, 0, 1, 2, 1, 2]])"
      ]
     },
     "execution_count": 28,
     "metadata": {},
     "output_type": "execute_result"
    }
   ],
   "source": [
    "a\n"
   ]
  },
  {
   "cell_type": "code",
   "execution_count": 29,
   "id": "cc7b34e4-f13d-47fb-8389-4625113f8c30",
   "metadata": {},
   "outputs": [
    {
     "data": {
      "text/plain": [
       "tensor([1, 2, 2, 0, 1, 2, 1, 2])"
      ]
     },
     "execution_count": 29,
     "metadata": {},
     "output_type": "execute_result"
    }
   ],
   "source": [
    "a[3]"
   ]
  },
  {
   "cell_type": "code",
   "execution_count": 31,
   "id": "a5cb082b-0998-4252-8de3-48ac1326e3bc",
   "metadata": {},
   "outputs": [
    {
     "data": {
      "text/plain": [
       "tensor([1, 2, 2])"
      ]
     },
     "execution_count": 31,
     "metadata": {},
     "output_type": "execute_result"
    }
   ],
   "source": [
    "a[3, :3]"
   ]
  },
  {
   "cell_type": "code",
   "execution_count": null,
   "id": "4033ccf6-a2f4-4ea8-b089-42576a95904b",
   "metadata": {},
   "outputs": [],
   "source": []
  }
 ],
 "metadata": {
  "kernelspec": {
   "display_name": "Python 3 (ipykernel)",
   "language": "python",
   "name": "python3"
  },
  "language_info": {
   "codemirror_mode": {
    "name": "ipython",
    "version": 3
   },
   "file_extension": ".py",
   "mimetype": "text/x-python",
   "name": "python",
   "nbconvert_exporter": "python",
   "pygments_lexer": "ipython3",
   "version": "3.10.12"
  }
 },
 "nbformat": 4,
 "nbformat_minor": 5
}
